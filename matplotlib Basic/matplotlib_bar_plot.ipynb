{
 "cells": [
  {
   "cell_type": "markdown",
   "id": "1b163823",
   "metadata": {},
   "source": [
    "# How to plot barchart by using matplotlib"
   ]
  },
  {
   "cell_type": "code",
   "execution_count": 1,
   "id": "972899e9",
   "metadata": {},
   "outputs": [],
   "source": [
    "import matplotlib.pyplot as plt\n",
    "import numpy as np"
   ]
  },
  {
   "cell_type": "code",
   "execution_count": null,
   "id": "1a7eb883",
   "metadata": {},
   "outputs": [],
   "source": [
    "# Plot graph of temp vs year.\n",
    "#india and america temp comparison bar plot\n",
    "# simple basic code"
   ]
  },
  {
   "cell_type": "code",
   "execution_count": 2,
   "id": "d6541421",
   "metadata": {},
   "outputs": [
    {
     "data": {
      "text/plain": [
       "array([2015, 2016, 2017, 2018, 2019, 2020])"
      ]
     },
     "execution_count": 2,
     "metadata": {},
     "output_type": "execute_result"
    }
   ],
   "source": [
    "year=np.arange(2015,2021)\n",
    "year"
   ]
  },
  {
   "cell_type": "code",
   "execution_count": 3,
   "id": "bcbda48c",
   "metadata": {},
   "outputs": [],
   "source": [
    "india_temp=np.array([29,30,28,27,30,31])\n",
    "america_temp=np.array([27,28,29,27,28,29])"
   ]
  },
  {
   "cell_type": "code",
   "execution_count": 4,
   "id": "e686f793",
   "metadata": {},
   "outputs": [
    {
     "data": {
      "text/plain": [
       "array([29, 30, 28, 27, 30, 31])"
      ]
     },
     "execution_count": 4,
     "metadata": {},
     "output_type": "execute_result"
    }
   ],
   "source": [
    "india_temp"
   ]
  },
  {
   "cell_type": "code",
   "execution_count": 5,
   "id": "aecf7512",
   "metadata": {},
   "outputs": [
    {
     "data": {
      "text/plain": [
       "array([27, 28, 29, 27, 28, 29])"
      ]
     },
     "execution_count": 5,
     "metadata": {},
     "output_type": "execute_result"
    }
   ],
   "source": [
    "america_temp"
   ]
  },
  {
   "cell_type": "code",
   "execution_count": 11,
   "id": "9927e32b",
   "metadata": {},
   "outputs": [
    {
     "data": {
      "text/plain": [
       "<matplotlib.legend.Legend at 0x249b794ee90>"
      ]
     },
     "execution_count": 11,
     "metadata": {},
     "output_type": "execute_result"
    },
    {
     "data": {
      "image/png": "[encoded data removed]",
      "text/plain": [
       "<Figure size 720x504 with 1 Axes>"
      ]
     },
     "metadata": {
      "needs_background": "light"
     },
     "output_type": "display_data"
    }
   ],
   "source": [
    "plt.figure(figsize=(10,7))  #increase the size of graph\n",
    "plt.bar(year-0.2,india_temp,width=0.4,color='r',edgecolor='black')  #india  #with help of edgecolor change edge of color\n",
    "plt.bar(year+0.2,america_temp,width=0.4,color='y',edgecolor='black') #america\n",
    "plt.title(\"Avg. Temp vs Year\",size=15,color='b')  #Title of graph\n",
    "plt.xlabel(\"Year\",size=15,color='b')   # x-axis labels\n",
    "plt.ylabel(\"Temp(0C)\",size=15,color='b')  #y-axis labels\n",
    "plt.ylim(0,35)  #set y axis limit 0 to 35 same we set for x-axis also\n",
    "plt.legend(labels=['india_temp','america_temp']) #legend to indentify which bar has which country."
   ]
  },
  {
   "cell_type": "markdown",
   "id": "a9bbd448",
   "metadata": {},
   "source": [
    "Thank You........."
   ]
  },
  {
   "cell_type": "code",
   "execution_count": null,
   "id": "f5cb30c4",
   "metadata": {},
   "outputs": [],
   "source": []
  }
 ],
 "metadata": {
  "kernelspec": {
   "display_name": "Python 3 (ipykernel)",
   "language": "python",
   "name": "python3"
  },
  "language_info": {
   "codemirror_mode": {
    "name": "ipython",
    "version": 3
   },
   "file_extension": ".py",
   "mimetype": "text/x-python",
   "name": "python",
   "nbconvert_exporter": "python",
   "pygments_lexer": "ipython3",
   "version": "3.10.1"
  }
 },
 "nbformat": 4,
 "nbformat_minor": 5
}
