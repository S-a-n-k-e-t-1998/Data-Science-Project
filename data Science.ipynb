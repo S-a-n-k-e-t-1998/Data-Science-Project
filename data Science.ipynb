{
 "cells": [
  {
   "cell_type": "markdown",
   "id": "b031b15d",
   "metadata": {},
   "source": [
    "# DATA SCIENCE"
   ]
  },
  {
   "cell_type": "markdown",
   "id": "952078ac",
   "metadata": {},
   "source": [
    "\"\"\"data science is the extraction of knowledge and insight from data by using technique and algorithms.\"\"\""
   ]
  },
  {
   "cell_type": "markdown",
   "id": "f0ae12d3",
   "metadata": {},
   "source": [
    "# Artificial intelligence"
   ]
  },
  {
   "cell_type": "markdown",
   "id": "32a6c97a",
   "metadata": {},
   "source": [
    "Artificial intelligence is the technique which enables machine to mimic human behaviour."
   ]
  },
  {
   "cell_type": "markdown",
   "id": "ffb7fe87",
   "metadata": {},
   "source": [
    "# Machine Learning"
   ]
  },
  {
   "cell_type": "markdown",
   "id": "6f9f6645",
   "metadata": {},
   "source": [
    "Machine Learning is subset of Artificial intelligence, which uses the stastical methods to enable machines to improve with experience."
   ]
  },
  {
   "cell_type": "markdown",
   "id": "fe75f20d",
   "metadata": {},
   "source": [
    "Example-\n",
    "Image recognition is a well-known and widespread example of machine learning in the real world. It can identify an object as a digital image, based on the intensity of the pixels in black and white images or colour images. Real-world examples of image recognition: Label an x-ray as cancerous or not."
   ]
  },
  {
   "cell_type": "markdown",
   "id": "a7137239",
   "metadata": {},
   "source": [
    "# Deep Learning"
   ]
  },
  {
   "cell_type": "markdown",
   "id": "4f2de3b1",
   "metadata": {},
   "source": [
    "Deep Learning is the subset of machine learning, which make the computational neural networok feasible."
   ]
  },
  {
   "cell_type": "markdown",
   "id": "4304c877",
   "metadata": {},
   "source": [
    "# why PYTHON"
   ]
  },
  {
   "cell_type": "code",
   "execution_count": 76,
   "id": "9b3cc3e1",
   "metadata": {},
   "outputs": [],
   "source": [
    "# 1.Open source and dynamically type language.\n",
    "# 2.Synatx is simple.\n",
    "# 3.Very large and collaborative developer commuinity.\n",
    "# 4.Extensive package for data science like pandas, numpay, scikit-learn etc"
   ]
  },
  {
   "cell_type": "code",
   "execution_count": null,
   "id": "a9a7e90d",
   "metadata": {},
   "outputs": [],
   "source": []
  },
  {
   "cell_type": "markdown",
   "id": "4a29a14c",
   "metadata": {},
   "source": [
    "# How to run a cell"
   ]
  },
  {
   "cell_type": "markdown",
   "id": "d688466b",
   "metadata": {},
   "source": [
    "1. control + Enter >> Used to run the current cell\n",
    "2. Shift + Enter   >> Used to execute current cell and enter in the next cell\n",
    "3. Alt + Enter     >> Used to execute current cell and create/add new blank cell"
   ]
  },
  {
   "cell_type": "code",
   "execution_count": 15,
   "id": "40fef1f8",
   "metadata": {},
   "outputs": [
    {
     "name": "stdout",
     "output_type": "stream",
     "text": [
      "Hello\n"
     ]
    }
   ],
   "source": [
    "print(\"Hello\")"
   ]
  },
  {
   "cell_type": "code",
   "execution_count": null,
   "id": "3f45cac5",
   "metadata": {},
   "outputs": [],
   "source": []
  },
  {
   "cell_type": "markdown",
   "id": "755f56bb",
   "metadata": {},
   "source": [
    "# Comments"
   ]
  },
  {
   "cell_type": "markdown",
   "id": "f92fb118",
   "metadata": {},
   "source": [
    "1. (#)  >> To comment a single line\n",
    "2. Control + /  >> TO comment multiple line\n",
    "3. \"\"\"______\"\"\" >> triple quotes used for multi line comment like paragraph."
   ]
  },
  {
   "cell_type": "markdown",
   "id": "62261ead",
   "metadata": {},
   "source": [
    "Example"
   ]
  },
  {
   "cell_type": "code",
   "execution_count": 18,
   "id": "344f01c3",
   "metadata": {},
   "outputs": [],
   "source": [
    "# data Science"
   ]
  },
  {
   "cell_type": "markdown",
   "id": "d98cbd3f",
   "metadata": {},
   "source": [
    "control + /"
   ]
  },
  {
   "cell_type": "code",
   "execution_count": 10,
   "id": "0bb41348",
   "metadata": {},
   "outputs": [],
   "source": [
    "#  Machine Learning is subset of Artificial intelligence, which uses the stastical methods to enable machines\n",
    "# to improve with experience.\n",
    "#  Example- Image recognition is a well-known and widespread example of machine learning in the real world.\n",
    "# It can identify an object as a digital image, based on the intensity\n",
    "# of the pixels in black and white images or colour images. Real-world examples of image recognition: \n",
    "#     Label an x-ray as cancerous or not."
   ]
  },
  {
   "cell_type": "markdown",
   "id": "96279cf5",
   "metadata": {},
   "source": [
    "Multiline comments"
   ]
  },
  {
   "cell_type": "code",
   "execution_count": 8,
   "id": "1d5b81f0",
   "metadata": {},
   "outputs": [
    {
     "data": {
      "text/plain": [
       "'Machine Learning is subset of Artificial intelligence, which uses the stastical methods to enable machines to improve with experience.\\n\\nExample- Image recognition is a well-known and widespread example of machine learning in the real world. It can identify an object as a digital image, based on the intensity of the pixels in black and white images or colour images. Real-world examples of image recognition: Label an x-ray as cancerous or not. '"
      ]
     },
     "execution_count": 8,
     "metadata": {},
     "output_type": "execute_result"
    }
   ],
   "source": [
    "\"\"\"Machine Learning is subset of Artificial intelligence, wh\n",
    "ich uses the stastical methods to enable machines to improve with experience.\n",
    "Example- Image recognition is a well-known and wid\n",
    "espread example of machine learning in the real world. It can identify an object as\n",
    "a digital image, based on the intensity of the pixels in black and white \n",
    "images or colour images. Real-world examples \n",
    "of image recognition: Label an x-ray as cancerous or not. \"\"\""
   ]
  },
  {
   "cell_type": "code",
   "execution_count": null,
   "id": "774c893a",
   "metadata": {},
   "outputs": [],
   "source": []
  },
  {
   "cell_type": "markdown",
   "id": "84e2728f",
   "metadata": {},
   "source": [
    "# Indentation"
   ]
  },
  {
   "cell_type": "markdown",
   "id": "806363dc",
   "metadata": {},
   "source": [
    "Space at the begining of code line"
   ]
  },
  {
   "cell_type": "code",
   "execution_count": 21,
   "id": "69d9e518",
   "metadata": {},
   "outputs": [
    {
     "ename": "IndentationError",
     "evalue": "unexpected indent (Temp/ipykernel_16088/878289949.py, line 2)",
     "output_type": "error",
     "traceback": [
      "\u001b[1;36m  File \u001b[1;32m\"C:\\Users\\91703\\AppData\\Local\\Temp/ipykernel_16088/878289949.py\"\u001b[1;36m, line \u001b[1;32m2\u001b[0m\n\u001b[1;33m    print(\"1. We are learning Python and Data Science\")\u001b[0m\n\u001b[1;37m    ^\u001b[0m\n\u001b[1;31mIndentationError\u001b[0m\u001b[1;31m:\u001b[0m unexpected indent\n"
     ]
    }
   ],
   "source": [
    "print(\"Hello\")\n",
    "    print(\"1. We are learning Python and Data Science\")\n",
    "print(\"2. We are learning Python and Data Science\")\n",
    "print(\"3. We are learning Python and Data Science\")\n",
    "print(\"4. We are learning Python and Data Science\")\n",
    "print(\"5. We are learning Python and Data Science\")\n",
    "print(\"6. We are learning Python and Data Science\")"
   ]
  },
  {
   "cell_type": "markdown",
   "id": "b00152f0",
   "metadata": {},
   "source": [
    "# Variable"
   ]
  },
  {
   "cell_type": "markdown",
   "id": "70964bc1",
   "metadata": {},
   "source": [
    "Varible is as containers for store the data."
   ]
  },
  {
   "cell_type": "markdown",
   "id": "72cc286f",
   "metadata": {},
   "source": [
    "Rules for define a variable-"
   ]
  },
  {
   "cell_type": "raw",
   "id": "1090bdc6",
   "metadata": {},
   "source": [
    "1.Variable is the single word no space allowed.\n",
    "2.Variable can not start with numbers.\n",
    "3.Special chr not allowed except underscore >>( _ ).\n",
    "4.Variable name are case sensitive in python."
   ]
  },
  {
   "cell_type": "markdown",
   "id": "6b065dc2",
   "metadata": {},
   "source": [
    "example-"
   ]
  },
  {
   "cell_type": "code",
   "execution_count": 24,
   "id": "a5221940",
   "metadata": {},
   "outputs": [],
   "source": [
    "color=\"red\"  #space not allowed."
   ]
  },
  {
   "cell_type": "code",
   "execution_count": 26,
   "id": "a286777c",
   "metadata": {},
   "outputs": [],
   "source": [
    "4color=\"red\"  #not start with numbers."
   ]
  },
  {
   "cell_type": "code",
   "execution_count": null,
   "id": "9299b7dc",
   "metadata": {},
   "outputs": [],
   "source": [
    "$color=\"red\"   #not start with special chr."
   ]
  },
  {
   "cell_type": "code",
   "execution_count": null,
   "id": "fb3db6ee",
   "metadata": {},
   "outputs": [],
   "source": []
  },
  {
   "cell_type": "code",
   "execution_count": null,
   "id": "1083f841",
   "metadata": {},
   "outputs": [],
   "source": []
  },
  {
   "cell_type": "markdown",
   "id": "363d1147",
   "metadata": {},
   "source": [
    "# Function"
   ]
  },
  {
   "cell_type": "markdown",
   "id": "c0f0b375",
   "metadata": {},
   "source": [
    "Function is the reusable set of instruction."
   ]
  },
  {
   "cell_type": "code",
   "execution_count": 27,
   "id": "49f11ef6",
   "metadata": {},
   "outputs": [],
   "source": [
    "# Example- print , If , input, def etc."
   ]
  },
  {
   "cell_type": "code",
   "execution_count": 28,
   "id": "8bc0af29",
   "metadata": {},
   "outputs": [
    {
     "name": "stdout",
     "output_type": "stream",
     "text": [
      "Hello\n"
     ]
    }
   ],
   "source": [
    "print(\"Hello\")"
   ]
  },
  {
   "cell_type": "code",
   "execution_count": null,
   "id": "79a94a3d",
   "metadata": {},
   "outputs": [],
   "source": []
  },
  {
   "cell_type": "code",
   "execution_count": null,
   "id": "ff4c0f7d",
   "metadata": {},
   "outputs": [],
   "source": [
    "a=20"
   ]
  },
  {
   "cell_type": "code",
   "execution_count": 33,
   "id": "6adc2b28",
   "metadata": {},
   "outputs": [
    {
     "name": "stdout",
     "output_type": "stream",
     "text": [
      "40.5\n"
     ]
    }
   ],
   "source": [
    "a=20\n",
    "b=20.5\n",
    "c=a+b\n",
    "print(c)"
   ]
  },
  {
   "cell_type": "code",
   "execution_count": 34,
   "id": "0c214bfd",
   "metadata": {},
   "outputs": [
    {
     "data": {
      "text/plain": [
       "float"
      ]
     },
     "execution_count": 34,
     "metadata": {},
     "output_type": "execute_result"
    }
   ],
   "source": [
    "type(c)"
   ]
  },
  {
   "cell_type": "markdown",
   "id": "22543bc9",
   "metadata": {},
   "source": [
    "# Data Type in python"
   ]
  },
  {
   "cell_type": "code",
   "execution_count": 35,
   "id": "0c9bc69c",
   "metadata": {},
   "outputs": [],
   "source": [
    "# a.Integer\n",
    "# b.Float\n",
    "# c.string\n",
    "# d.None\n",
    "# e.Boolen\n",
    "# f.List\n",
    "# g.Tuple\n",
    "# h.Dict"
   ]
  },
  {
   "cell_type": "markdown",
   "id": "1c06fd58",
   "metadata": {},
   "source": [
    "# Integer"
   ]
  },
  {
   "cell_type": "markdown",
   "id": "292e4189",
   "metadata": {},
   "source": [
    "integer is known as non decimal value. e.g. 10,20,1,2,5"
   ]
  },
  {
   "cell_type": "code",
   "execution_count": 37,
   "id": "cca235bf",
   "metadata": {},
   "outputs": [
    {
     "name": "stdout",
     "output_type": "stream",
     "text": [
      "20\n"
     ]
    },
    {
     "data": {
      "text/plain": [
       "int"
      ]
     },
     "execution_count": 37,
     "metadata": {},
     "output_type": "execute_result"
    }
   ],
   "source": [
    "a=10   # >> a & b both are integer ans get in int.\n",
    "b=10\n",
    "c=a+b\n",
    "print(c)\n",
    "type(c)"
   ]
  },
  {
   "cell_type": "code",
   "execution_count": 38,
   "id": "5aa7304a",
   "metadata": {},
   "outputs": [
    {
     "name": "stdout",
     "output_type": "stream",
     "text": [
      "30.5\n"
     ]
    },
    {
     "data": {
      "text/plain": [
       "float"
      ]
     },
     "execution_count": 38,
     "metadata": {},
     "output_type": "execute_result"
    }
   ],
   "source": [
    "a=10     # >> any one value are in float python by defualt result get in float.\n",
    "b=20.5   # a=10.0 python consider a value like that. \n",
    "c=a+b    # In python not requried some cases to define data types.\n",
    "print(c)\n",
    "type(c)"
   ]
  },
  {
   "cell_type": "markdown",
   "id": "ecc10d74",
   "metadata": {},
   "source": [
    "# Float"
   ]
  },
  {
   "cell_type": "markdown",
   "id": "d288035e",
   "metadata": {},
   "source": [
    "Float is known as decimal values. e.g 10.3, 10.14"
   ]
  },
  {
   "cell_type": "code",
   "execution_count": 39,
   "id": "d2faf7c9",
   "metadata": {},
   "outputs": [
    {
     "name": "stdout",
     "output_type": "stream",
     "text": [
      "10.3\n"
     ]
    },
    {
     "data": {
      "text/plain": [
       "float"
      ]
     },
     "execution_count": 39,
     "metadata": {},
     "output_type": "execute_result"
    }
   ],
   "source": [
    "a=10.3\n",
    "print(a)\n",
    "type(a)"
   ]
  },
  {
   "cell_type": "markdown",
   "id": "53ec7f31",
   "metadata": {},
   "source": [
    "# Boolen"
   ]
  },
  {
   "cell_type": "markdown",
   "id": "00bc36b7",
   "metadata": {},
   "source": [
    "Boolen are generally returned as result in comparison operation. eg. ==, => etc."
   ]
  },
  {
   "cell_type": "code",
   "execution_count": 43,
   "id": "49cf2da9",
   "metadata": {},
   "outputs": [
    {
     "data": {
      "text/plain": [
       "bool"
      ]
     },
     "execution_count": 43,
     "metadata": {},
     "output_type": "execute_result"
    }
   ],
   "source": [
    "a=10\n",
    "type(a==15)"
   ]
  },
  {
   "cell_type": "code",
   "execution_count": 42,
   "id": "a2b236a3",
   "metadata": {},
   "outputs": [
    {
     "data": {
      "text/plain": [
       "int"
      ]
     },
     "execution_count": 42,
     "metadata": {},
     "output_type": "execute_result"
    }
   ],
   "source": []
  },
  {
   "cell_type": "markdown",
   "id": "6fe7e6d7",
   "metadata": {},
   "source": [
    "# None"
   ]
  },
  {
   "cell_type": "markdown",
   "id": "56a3be3f",
   "metadata": {},
   "source": [
    "None is not have any single value."
   ]
  },
  {
   "cell_type": "code",
   "execution_count": 44,
   "id": "01290b6e",
   "metadata": {},
   "outputs": [],
   "source": [
    "# N as catial"
   ]
  },
  {
   "cell_type": "code",
   "execution_count": 48,
   "id": "1aed6849",
   "metadata": {},
   "outputs": [],
   "source": []
  },
  {
   "cell_type": "code",
   "execution_count": null,
   "id": "fa65c869",
   "metadata": {},
   "outputs": [],
   "source": []
  },
  {
   "cell_type": "markdown",
   "id": "07ac660f",
   "metadata": {},
   "source": [
    "# String"
   ]
  },
  {
   "cell_type": "markdown",
   "id": "1365cae1",
   "metadata": {},
   "source": [
    "String is used to represent text in python"
   ]
  },
  {
   "cell_type": "code",
   "execution_count": 50,
   "id": "51cb69fe",
   "metadata": {},
   "outputs": [],
   "source": [
    "a=\"saturday\""
   ]
  },
  {
   "cell_type": "code",
   "execution_count": 51,
   "id": "0788589f",
   "metadata": {},
   "outputs": [
    {
     "data": {
      "text/plain": [
       "str"
      ]
     },
     "execution_count": 51,
     "metadata": {},
     "output_type": "execute_result"
    }
   ],
   "source": [
    "type(a)"
   ]
  },
  {
   "cell_type": "code",
   "execution_count": null,
   "id": "f9bae96f",
   "metadata": {},
   "outputs": [],
   "source": []
  },
  {
   "cell_type": "markdown",
   "id": "fbc32bce",
   "metadata": {},
   "source": [
    "# List"
   ]
  },
  {
   "cell_type": "markdown",
   "id": "d56162ce",
   "metadata": {},
   "source": [
    "List is known as container to store multiple data."
   ]
  },
  {
   "cell_type": "code",
   "execution_count": 53,
   "id": "43717675",
   "metadata": {},
   "outputs": [],
   "source": [
    "# 1. List is edited and update any time.\n",
    "# 2. List is crieted by using square bracket >> [ ]."
   ]
  },
  {
   "cell_type": "code",
   "execution_count": 54,
   "id": "b01e17e9",
   "metadata": {},
   "outputs": [],
   "source": [
    "List_a=[10,20,30,40]"
   ]
  },
  {
   "cell_type": "code",
   "execution_count": 55,
   "id": "3ce8e51e",
   "metadata": {},
   "outputs": [
    {
     "name": "stdout",
     "output_type": "stream",
     "text": [
      "[10, 20, 30, 40]\n"
     ]
    }
   ],
   "source": [
    "print(List_a)"
   ]
  },
  {
   "cell_type": "code",
   "execution_count": 58,
   "id": "be45987a",
   "metadata": {},
   "outputs": [],
   "source": [
    "List_a.append(10)  # update single element in list use ( )."
   ]
  },
  {
   "cell_type": "code",
   "execution_count": 62,
   "id": "f1005cc2",
   "metadata": {},
   "outputs": [
    {
     "name": "stdout",
     "output_type": "stream",
     "text": [
      "[10, 30, 40, 10]\n"
     ]
    }
   ],
   "source": [
    "print(List_a)   #10 is added in list by useing append function."
   ]
  },
  {
   "cell_type": "code",
   "execution_count": 68,
   "id": "bbca80bd",
   "metadata": {},
   "outputs": [],
   "source": [
    "List_a.append([60,80,90])"
   ]
  },
  {
   "cell_type": "code",
   "execution_count": 69,
   "id": "3e247a35",
   "metadata": {},
   "outputs": [
    {
     "name": "stdout",
     "output_type": "stream",
     "text": [
      "[10, 30, 40, 10, [60, 80, 90], [60, 80, 90], [60, 80, 90]]\n"
     ]
    }
   ],
   "source": [
    "print(List_a) # 3 time run above cell so add 3 time in list."
   ]
  },
  {
   "cell_type": "code",
   "execution_count": 60,
   "id": "3a076606",
   "metadata": {},
   "outputs": [],
   "source": [
    "#List_a.remove(20)"
   ]
  },
  {
   "cell_type": "code",
   "execution_count": 61,
   "id": "3406710c",
   "metadata": {},
   "outputs": [
    {
     "name": "stdout",
     "output_type": "stream",
     "text": [
      "[10, 30, 40, 10]\n"
     ]
    }
   ],
   "source": [
    "#print(List_a)  #20 no. remove from list by using remove function."
   ]
  },
  {
   "cell_type": "code",
   "execution_count": 70,
   "id": "a324efa4",
   "metadata": {},
   "outputs": [
    {
     "data": {
      "text/plain": [
       "[60, 80, 90]"
      ]
     },
     "execution_count": 70,
     "metadata": {},
     "output_type": "execute_result"
    }
   ],
   "source": [
    "List_a[4]   #extract single element from list by using []"
   ]
  },
  {
   "cell_type": "code",
   "execution_count": 71,
   "id": "9e7a8c1d",
   "metadata": {},
   "outputs": [
    {
     "data": {
      "text/plain": [
       "[30, 40, 10, [60, 80, 90]]"
      ]
     },
     "execution_count": 71,
     "metadata": {},
     "output_type": "execute_result"
    }
   ],
   "source": [
    "List_a[1:5]      #extract multiple element from list"
   ]
  },
  {
   "cell_type": "code",
   "execution_count": 72,
   "id": "51fd8796",
   "metadata": {},
   "outputs": [
    {
     "data": {
      "text/plain": [
       "[60, 80, 90]"
      ]
     },
     "execution_count": 72,
     "metadata": {},
     "output_type": "execute_result"
    }
   ],
   "source": [
    "List_a[-1]      #extract element from back side."
   ]
  },
  {
   "cell_type": "code",
   "execution_count": 73,
   "id": "25d6cdbb",
   "metadata": {},
   "outputs": [],
   "source": [
    "List_a.extend([100,200])"
   ]
  },
  {
   "cell_type": "code",
   "execution_count": 74,
   "id": "5dd17844",
   "metadata": {},
   "outputs": [
    {
     "name": "stdout",
     "output_type": "stream",
     "text": [
      "[10, 30, 40, 10, [60, 80, 90], [60, 80, 90], [60, 80, 90], 100, 200]\n"
     ]
    }
   ],
   "source": [
    "print(List_a)    #add multiple element at time"
   ]
  },
  {
   "cell_type": "code",
   "execution_count": null,
   "id": "a1b8661c",
   "metadata": {},
   "outputs": [],
   "source": []
  },
  {
   "cell_type": "code",
   "execution_count": null,
   "id": "cca74242",
   "metadata": {},
   "outputs": [],
   "source": []
  },
  {
   "cell_type": "markdown",
   "id": "cc5977ec",
   "metadata": {},
   "source": [
    "# Tuple"
   ]
  },
  {
   "cell_type": "markdown",
   "id": "dcb57820",
   "metadata": {},
   "source": [
    "Tuple created by using ( )."
   ]
  },
  {
   "cell_type": "code",
   "execution_count": 77,
   "id": "0711bdbc",
   "metadata": {},
   "outputs": [],
   "source": [
    "# 1. Tuple is not edited."
   ]
  },
  {
   "cell_type": "code",
   "execution_count": 78,
   "id": "471b7f0f",
   "metadata": {},
   "outputs": [],
   "source": [
    "Sample=(10,20,30,40,50)"
   ]
  },
  {
   "cell_type": "code",
   "execution_count": 80,
   "id": "3639e4a0",
   "metadata": {},
   "outputs": [
    {
     "name": "stdout",
     "output_type": "stream",
     "text": [
      "(10, 20, 30, 40, 50)\n"
     ]
    }
   ],
   "source": [
    "print(Sample)"
   ]
  },
  {
   "cell_type": "code",
   "execution_count": 81,
   "id": "39d1a656",
   "metadata": {},
   "outputs": [
    {
     "data": {
      "text/plain": [
       "tuple"
      ]
     },
     "execution_count": 81,
     "metadata": {},
     "output_type": "execute_result"
    }
   ],
   "source": [
    "type(Sample)"
   ]
  },
  {
   "cell_type": "code",
   "execution_count": null,
   "id": "89fe351a",
   "metadata": {},
   "outputs": [],
   "source": []
  }
 ],
 "metadata": {
  "kernelspec": {
   "display_name": "Python 3 (ipykernel)",
   "language": "python",
   "name": "python3"
  },
  "language_info": {
   "codemirror_mode": {
    "name": "ipython",
    "version": 3
   },
   "file_extension": ".py",
   "mimetype": "text/x-python",
   "name": "python",
   "nbconvert_exporter": "python",
   "pygments_lexer": "ipython3",
   "version": "3.10.1"
  }
 },
 "nbformat": 4,
 "nbformat_minor": 5
}
