{
 "cells": [
  {
   "cell_type": "markdown",
   "id": "b531270c",
   "metadata": {},
   "source": [
    "# Boolean to int, float,complex"
   ]
  },
  {
   "cell_type": "markdown",
   "id": "b12d2551",
   "metadata": {},
   "source": [
    "bool >>True >> int >> 1"
   ]
  },
  {
   "cell_type": "code",
   "execution_count": 4,
   "id": "c2793150",
   "metadata": {},
   "outputs": [
    {
     "name": "stdout",
     "output_type": "stream",
     "text": [
      "<class 'bool'>\n",
      "<class 'int'>\n",
      "1\n"
     ]
    }
   ],
   "source": [
    "a=True\n",
    "print(type(a))\n",
    "a=int(a)\n",
    "print(type(a))\n",
    "print(a)"
   ]
  },
  {
   "cell_type": "markdown",
   "id": "cd511f4e",
   "metadata": {},
   "source": [
    "bool >> False >> int >> 0"
   ]
  },
  {
   "cell_type": "code",
   "execution_count": 5,
   "id": "a40afb8e",
   "metadata": {},
   "outputs": [
    {
     "name": "stdout",
     "output_type": "stream",
     "text": [
      "<class 'bool'>\n",
      "<class 'int'>\n",
      "0\n"
     ]
    }
   ],
   "source": [
    "a=False\n",
    "print(type(a))\n",
    "a=int(a)\n",
    "print(type(a))\n",
    "print(a)"
   ]
  },
  {
   "cell_type": "markdown",
   "id": "0401cdfb",
   "metadata": {},
   "source": [
    "bool >> True >> float >> 1.0"
   ]
  },
  {
   "cell_type": "code",
   "execution_count": 6,
   "id": "40c3829f",
   "metadata": {},
   "outputs": [
    {
     "name": "stdout",
     "output_type": "stream",
     "text": [
      "<class 'bool'>\n",
      "<class 'float'>\n",
      "1.0\n"
     ]
    }
   ],
   "source": [
    "a=True\n",
    "print(type(a))\n",
    "a=float(a)\n",
    "print(type(a))\n",
    "print(a)"
   ]
  },
  {
   "cell_type": "markdown",
   "id": "58287ca6",
   "metadata": {},
   "source": [
    "bool >> False >> float >> 0.0"
   ]
  },
  {
   "cell_type": "code",
   "execution_count": 7,
   "id": "0d472360",
   "metadata": {},
   "outputs": [
    {
     "name": "stdout",
     "output_type": "stream",
     "text": [
      "<class 'bool'>\n",
      "<class 'float'>\n",
      "0.0\n"
     ]
    }
   ],
   "source": [
    "a=False\n",
    "print(type(a))\n",
    "a=float(a)\n",
    "print(type(a))\n",
    "print(a)"
   ]
  },
  {
   "cell_type": "markdown",
   "id": "96410924",
   "metadata": {},
   "source": [
    "bool >> True >> float >> 1+0j"
   ]
  },
  {
   "cell_type": "code",
   "execution_count": 8,
   "id": "eb100602",
   "metadata": {},
   "outputs": [
    {
     "name": "stdout",
     "output_type": "stream",
     "text": [
      "<class 'bool'>\n",
      "<class 'complex'>\n",
      "(1+0j)\n"
     ]
    }
   ],
   "source": [
    "a=True\n",
    "print(type(a))\n",
    "a=complex(a)\n",
    "print(type(a))\n",
    "print(a)"
   ]
  },
  {
   "cell_type": "markdown",
   "id": "05f32564",
   "metadata": {},
   "source": [
    "bool >> True >> float >> 0+0j"
   ]
  },
  {
   "cell_type": "code",
   "execution_count": 10,
   "id": "fc593976",
   "metadata": {},
   "outputs": [
    {
     "name": "stdout",
     "output_type": "stream",
     "text": [
      "<class 'bool'>\n",
      "<class 'complex'>\n",
      "0j\n"
     ]
    }
   ],
   "source": [
    "a=False\n",
    "print(type(a))\n",
    "a=complex(a)\n",
    "print(type(a))\n",
    "print(a)"
   ]
  },
  {
   "cell_type": "code",
   "execution_count": null,
   "id": "543efdfd",
   "metadata": {},
   "outputs": [],
   "source": []
  }
 ],
 "metadata": {
  "kernelspec": {
   "display_name": "Python 3 (ipykernel)",
   "language": "python",
   "name": "python3"
  },
  "language_info": {
   "codemirror_mode": {
    "name": "ipython",
    "version": 3
   },
   "file_extension": ".py",
   "mimetype": "text/x-python",
   "name": "python",
   "nbconvert_exporter": "python",
   "pygments_lexer": "ipython3",
   "version": "3.10.1"
  }
 },
 "nbformat": 4,
 "nbformat_minor": 5
}
